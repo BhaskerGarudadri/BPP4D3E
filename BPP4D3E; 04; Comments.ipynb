{
  "cells": [
    {
      "cell_type": "markdown",
      "metadata": {
        "id": "O0BBX8twMjWp"
      },
      "source": [
        "# Adding Comments"
      ]
    },
    {
      "cell_type": "markdown",
      "metadata": {
        "id": "F5_4QwyWMjWs"
      },
      "source": [
        "## Understanding comments"
      ]
    },
    {
      "cell_type": "code",
      "execution_count": null,
      "metadata": {
        "id": "0r2sl53HMjWt",
        "outputId": "7ead0759-3079-4c03-a1db-98e9991d10d5"
      },
      "outputs": [
        {
          "name": "stdout",
          "output_type": "stream",
          "text": [
            "Hello from Python!\n"
          ]
        }
      ],
      "source": [
        "# This is a comment.\n",
        "print(\"Hello from Python!\") #This is also a comment."
      ]
    },
    {
      "cell_type": "markdown",
      "metadata": {
        "id": "pPMoB7vVMjWv"
      },
      "source": [
        "## Creating multiline comments"
      ]
    },
    {
      "cell_type": "code",
      "execution_count": null,
      "metadata": {
        "id": "V6pub4xXMjWv",
        "outputId": "d0196e46-1e77-4b5b-d894-b36dd2615775"
      },
      "outputs": [
        {
          "data": {
            "text/plain": [
              "'\\n   Application: Comments.py\\n   Written by: John\\n   Purpose: Shows how to use comments.\\n'"
            ]
          },
          "execution_count": 2,
          "metadata": {},
          "output_type": "execute_result"
        }
      ],
      "source": [
        "\"\"\"\n",
        "   Application: Comments.py\n",
        "   Written by: John\n",
        "   Purpose: Shows how to use comments.\n",
        "\"\"\""
      ]
    },
    {
      "cell_type": "code",
      "execution_count": null,
      "metadata": {
        "id": "0TL6ovVPMjWw",
        "outputId": "bd673fc9-15b3-4c7e-acf6-9ae20eaee32b"
      },
      "outputs": [
        {
          "data": {
            "text/plain": [
              "'\\nprint(\"This line of code will not execute either.\")\\n'"
            ]
          },
          "execution_count": 3,
          "metadata": {},
          "output_type": "execute_result"
        }
      ],
      "source": [
        "# print(\"This code won't execute because it's commented out\")\n",
        "\n",
        "'''\n",
        "print(\"This line of code will not execute either.\")\n",
        "'''"
      ]
    },
    {
      "cell_type": "code",
      "execution_count": 8,
      "metadata": {
        "id": "D8sX-kE1MjWw",
        "outputId": "d0a3ca67-42ef-4fcd-ec74-144e105743b8",
        "colab": {
          "base_uri": "https://localhost:8080/"
        }
      },
      "outputs": [
        {
          "output_type": "stream",
          "name": "stdout",
          "text": [
            "\n",
            "  This is a multiline string\n",
            "  that is assigned to myString.\n",
            "  \n"
          ]
        }
      ],
      "source": [
        "myString = '''\n",
        "  This is a multiline string\n",
        "  that is assigned to myString.\n",
        "  '''\n",
        "print(myString)\n",
        "def addSomething(value1, value2):\n",
        "  return value1 + value2"
      ]
    },
    {
      "cell_type": "markdown",
      "metadata": {
        "id": "D4avr1JSMjWw"
      },
      "source": [
        "# Making Your Notebook Informative, Descriptive, and Pretty"
      ]
    },
    {
      "cell_type": "markdown",
      "metadata": {
        "id": "y2ZGXYx-MjWx"
      },
      "source": [
        "## Working with text cells\n",
        "1.   List item\n",
        "> *   List item\n",
        ">> *   Another List Level\n",
        ">> *   Another List Level\n",
        "> *   List item\n",
        "2.   List item"
      ]
    },
    {
      "cell_type": "markdown",
      "metadata": {
        "id": "5posnKNHMjWx"
      },
      "source": [
        "## Adding section headers"
      ]
    },
    {
      "cell_type": "code",
      "execution_count": null,
      "metadata": {
        "id": "iNR2BDABMjWx"
      },
      "outputs": [],
      "source": []
    }
  ],
  "metadata": {
    "kernelspec": {
      "display_name": "Python 3",
      "language": "python",
      "name": "python3"
    },
    "language_info": {
      "codemirror_mode": {
        "name": "ipython",
        "version": 3
      },
      "file_extension": ".py",
      "mimetype": "text/x-python",
      "name": "python",
      "nbconvert_exporter": "python",
      "pygments_lexer": "ipython3",
      "version": "3.8.3"
    },
    "colab": {
      "provenance": []
    }
  },
  "nbformat": 4,
  "nbformat_minor": 0
}